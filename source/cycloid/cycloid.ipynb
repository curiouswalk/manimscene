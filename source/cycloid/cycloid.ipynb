{
  "nbformat": 4,
  "nbformat_minor": 0,
  "metadata": {
    "colab": {
      "provenance": [],
      "authorship_tag": "ABX9TyOlQs3WhbNe41mMYKe6o6Wu",
      "include_colab_link": true
    },
    "kernelspec": {
      "name": "python3",
      "display_name": "Python 3"
    },
    "language_info": {
      "name": "python"
    }
  },
  "cells": [
    {
      "cell_type": "markdown",
      "metadata": {
        "id": "view-in-github",
        "colab_type": "text"
      },
      "source": [
        "<a href=\"https://colab.research.google.com/github/curiouswalk/manimscene/blob/main/source/cycloid/cycloid.ipynb\" target=\"_parent\"><img src=\"https://colab.research.google.com/assets/colab-badge.svg\" alt=\"Open In Colab\"/></a>"
      ]
    },
    {
      "cell_type": "markdown",
      "source": [
        "# [CuriousWalk](https://www.curiouswalk.com)\n",
        "\n",
        "## Manim Scene\n",
        "\n",
        "Animation Scenes Scripted in Python<br>&emsp;[`manimscene.curiouswalk.com`](https://manimscene.curiouswalk.com)\n",
        "\n",
        "Manim in Colab<br>&emsp;[`colab.curiouswalk.com/manim`](https://colab.curiouswalk.com/manim)"
      ],
      "metadata": {
        "id": "oWGBF46PRl7J"
      }
    },
    {
      "cell_type": "markdown",
      "source": [
        "# Manim\n",
        "\n",
        "**Manim** is an animation engine designed to program precise animations for explanatory math videos.\n",
        "\n",
        "> The Manim Community Developers. Manim — Mathematical Animation Framework [Computer software].<br>[www.manim.community](https://www.manim.community/)"
      ],
      "metadata": {
        "id": "0OUHYEwWRpGA"
      }
    },
    {
      "cell_type": "markdown",
      "source": [
        "## Installation\n",
        "\n",
        "[Installation Guide](https://docs.manim.community/en/stable/installation.html)\n"
      ],
      "metadata": {
        "id": "F-ECWNfdxdi2"
      }
    },
    {
      "cell_type": "code",
      "execution_count": null,
      "metadata": {
        "id": "r8cmoqCSOUlK"
      },
      "outputs": [],
      "source": [
        "!sudo apt update\n",
        "\n",
        "!sudo apt install libcairo2-dev libpango1.0-dev ffmpeg\n",
        "\n",
        "# LaTeX installation\n",
        "# !sudo apt install texlive texlive-latex-extra\n",
        "\n",
        "# LaTeX packages\n",
        "# !sudo apt install texlive-science texlive-fonts-extra\n",
        "\n",
        "# [optional] font download (stixfonts.org)\n",
        "url = (\"https://raw.githubusercontent.com/stipub/stixfonts/\"\n",
        "      \"master/fonts/static_ttf/STIXTwoText-Regular.ttf\")\n",
        "!wget -P /usr/share/fonts/truetype $url\n",
        "\n",
        "!pip install manim\n",
        "\n",
        "from IPython.display import clear_output\n",
        "\n",
        "clear_output()\n",
        "\n",
        "print(\"Installation Complete\")\n",
        "\n",
        "exit() # restart session"
      ]
    },
    {
      "cell_type": "markdown",
      "source": [
        "## Setup\n",
        "\n",
        "[Configuration](https://docs.manim.community/en/stable/guides/configuration.html)"
      ],
      "metadata": {
        "id": "20VJfS5ehERU"
      }
    },
    {
      "cell_type": "code",
      "source": [
        "from manim import *\n",
        "\n",
        "config.disable_caching = True\n",
        "config.verbosity = \"WARNING\"\n",
        "config.media_embed = True\n",
        "\n",
        "Text.set_default(font=\"STIX Two Text\")"
      ],
      "metadata": {
        "id": "utoBIJ2whEsk"
      },
      "execution_count": null,
      "outputs": []
    },
    {
      "cell_type": "markdown",
      "source": [
        "## Example Scene\n",
        "\n",
        "```python\n",
        "%%manim -ql NewScene\n",
        "class NewScene(Scene):\n",
        "    def construct(self):\n",
        "        ...  \n",
        "```\n",
        "\n",
        "`%%manim -ql NewScene` is a magic command for the code cell.\n",
        "\n",
        "- `%%manim` runs code cells with manim in a subprocess.\n",
        "- `-ql` specifies low render quality (480p, 15fps).\n",
        "  - `-qm` — medium (720p, 30fps)\n",
        "  - `-qh` — high (1080p, 60fps)\n",
        "  - `-qk` — 4k (2160p, 60fps)\n",
        "- `NewScene` is the scene class to render.\n",
        "\n",
        "[Example Gallery](https://docs.manim.community/en/stable/examples.html)\n",
        "\n",
        "`ExampleScene` creates Manim's logo and then expands it into its banner."
      ],
      "metadata": {
        "id": "O9orLU1Yfct0"
      }
    },
    {
      "cell_type": "code",
      "source": [
        "%%manim -qm ExampleScene\n",
        "\n",
        "class ExampleScene(Scene):\n",
        "    def construct(self):\n",
        "        banner = ManimBanner()\n",
        "        self.play(banner.create())\n",
        "        self.play(banner.expand())\n",
        "        self.wait()"
      ],
      "metadata": {
        "id": "dovXY4B6hKdw"
      },
      "execution_count": null,
      "outputs": []
    },
    {
      "cell_type": "markdown",
      "source": [
        "# Cycloid\n",
        "\n",
        "A cycloid is a mathematical curve traced by a point on the circumference of a circle as it rolls along a straight line. A prolate cycloid, also known as an extended cycloid, is traced by a point at a radius greater than the radius of the rolling circle. A curtate cycloid, also known as a contracted cycloid, is traced by a point at a radius smaller than the radius of the rolling circle. Cycloids have significant applications in various fields, including mathematics, physics, and engineering."
      ],
      "metadata": {
        "id": "U3OwrrpsEuXt"
      }
    },
    {
      "cell_type": "markdown",
      "source": [
        "## Initialization\n",
        "\n",
        "Run this code cell to begin, and rerun it if anything goes wrong."
      ],
      "metadata": {
        "id": "QKy1pAmVdrUr"
      }
    },
    {
      "cell_type": "code",
      "source": [
        "length = config.frame_width * 0.8\n",
        "\n",
        "num_line = NumberLine(\n",
        "    x_range=[-TAU, TAU, PI], length=length, color=ManimColor(\"#A8ABAE\")\n",
        ").to_edge(DOWN, buff=2)\n",
        "\n",
        "circle_radius = length / (TAU * 2)\n",
        "\n",
        "circle = Circle(radius=circle_radius, color=ManimColor(\"#199CE3\")).next_to(\n",
        "    num_line.get_start(), UP, buff=0.25\n",
        ")\n",
        "dashed_circle = DashedVMobject(circle)\n",
        "\n",
        "dot = Dot(color=circle.color).move_to(circle)\n",
        "\n",
        "point = Dot(radius=0.1, color=circle.color).move_to(circle)\n",
        "\n",
        "line = Line(dot, point, color=circle.color)\n",
        "\n",
        "update_mob = VGroup(dashed_circle, line, point)\n",
        "\n",
        "dot_x = dot.get_x()\n",
        "\n",
        "radius = ValueTracker(0.0)\n",
        "\n",
        "def updater_function(mob):\n",
        "\n",
        "    angle = PI / 2 - (dot.get_x() - dot_x) / circle_radius\n",
        "\n",
        "    pos = dot.get_center() + (\n",
        "        np.cos(angle) * radius.get_value(),\n",
        "        np.sin(angle) * radius.get_value(),\n",
        "        0.0,\n",
        "    )\n",
        "    mob[0].move_to(dot.get_center())\n",
        "\n",
        "    mob[1].set_points_by_ends(dot.get_center(), pos)\n",
        "\n",
        "    mob[2].move_to(pos)\n",
        "\n",
        "mobjects = VGroup(update_mob, num_line, dot)\n",
        "\n",
        "def anim_point_radius(self, r=0, color=circle.color, anim=None, rt=1.5):\n",
        "\n",
        "    update_mob.add_updater(updater_function)\n",
        "\n",
        "    anim_list = [\n",
        "        radius.animate.set_value(r * circle_radius),\n",
        "        point.animate.set_color(color),\n",
        "        line.animate.set_color(average_color(circle.color, color)),\n",
        "    ]\n",
        "    if anim:\n",
        "        anim_list.append(anim)\n",
        "\n",
        "    self.play(*anim_list, run_time=rt)\n",
        "\n",
        "def anim_trace_path(self, rt=3):\n",
        "\n",
        "    trail = TracedPath(\n",
        "        dot.get_center,\n",
        "        dissipating_time=rt * 0.06,\n",
        "        stroke_color=dot.color,\n",
        "        stroke_width=4,\n",
        "    )\n",
        "    path_forward = TracedPath(\n",
        "        point.get_center, stroke_color=point.color, stroke_width=6\n",
        "    )\n",
        "    self.add(trail, path_forward)\n",
        "\n",
        "    self.play(\n",
        "        dot.animate.shift(RIGHT * length),\n",
        "        Rotate(dashed_circle, -2 * TAU),\n",
        "        run_time=rt,\n",
        "        rate_func=linear,\n",
        "    )\n",
        "    self.wait(0.5)\n",
        "\n",
        "    path_forward.clear_updaters()\n",
        "    path_return = path_forward.copy()\n",
        "\n",
        "    self.play(path_forward.animate(run_time=1.5).fade(2 / 3))\n",
        "    self.wait(0.5)\n",
        "\n",
        "    path_backward = TracedPath(\n",
        "        point.get_center,\n",
        "        dissipating_time=rt * 0.25,\n",
        "        stroke_color=point.color,\n",
        "        stroke_width=6,\n",
        "    )\n",
        "    self.add(path_backward)\n",
        "\n",
        "    self.play(\n",
        "        FadeOut(path_forward),\n",
        "        dot.animate.shift(LEFT * length),\n",
        "        Rotate(dashed_circle, 2 * TAU),\n",
        "        rate_func=linear,\n",
        "        run_time=rt,\n",
        "    )\n",
        "    self.wait()\n",
        "\n",
        "    path_backward.clear_updaters()\n",
        "    self.remove(trail, path_backward)\n",
        "\n",
        "    return path_return\n"
      ],
      "metadata": {
        "id": "E1idVDAAExjQ"
      },
      "execution_count": null,
      "outputs": []
    },
    {
      "cell_type": "markdown",
      "source": [
        "## Animation Scenes"
      ],
      "metadata": {
        "id": "a-OmXRfGfPlL"
      }
    },
    {
      "cell_type": "markdown",
      "source": [
        "### Cycloid Scene\n",
        "Learn more from **MathWorld** — A Wolfram Web Resource.<br>[mathworld.wolfram.com/Cycloid.html](https://mathworld.wolfram.com/Cycloid.html)"
      ],
      "metadata": {
        "id": "JMSP68D0fQ3L"
      }
    },
    {
      "cell_type": "code",
      "source": [
        "%%manim -qh CycloidScene\n",
        "\n",
        "class CycloidScene(Scene):\n",
        "\n",
        "    def construct(self):\n",
        "\n",
        "        self.add(mobjects)\n",
        "\n",
        "        txt = Text(\"Cycloid\").to_edge(UP, buff=1)\n",
        "\n",
        "        path_color = ManimColor(\"#6019E3\")\n",
        "\n",
        "        anim_point_radius(self, r=1, color=path_color, anim=Write(txt))\n",
        "\n",
        "        self.wait()\n",
        "\n",
        "        anim_trace_path(self, rt=4)\n",
        "\n",
        "        self.wait()\n",
        "\n",
        "        anim_point_radius(self, r=-1, color=path_color)\n",
        "\n",
        "        self.wait()\n",
        "\n",
        "        anim_trace_path(self, rt=4)\n",
        "\n",
        "        self.wait()\n",
        "\n",
        "        anim_point_radius(self, r=0, anim=Unwrite(txt))\n",
        "\n",
        "        self.wait(0.5)\n"
      ],
      "metadata": {
        "id": "YkEi38kef9W1"
      },
      "execution_count": null,
      "outputs": []
    },
    {
      "cell_type": "markdown",
      "source": [
        "### Prolate Cycloid Scene\n",
        "Learn more from **MathWorld** — A Wolfram Web Resource.<br>[mathworld.wolfram.com/ProlateCycloid.html](https://mathworld.wolfram.com/ProlateCycloid.html)"
      ],
      "metadata": {
        "id": "YUKJRZPof_h1"
      }
    },
    {
      "cell_type": "code",
      "source": [
        "%%manim -qh ProlateCycloidScene\n",
        "\n",
        "class ProlateCycloidScene(Scene):\n",
        "\n",
        "    def construct(self):\n",
        "\n",
        "        self.add(mobjects)\n",
        "\n",
        "        txt = Text(\"Prolate Cycloid\").to_edge(UP, buff=1)\n",
        "\n",
        "        path_color = ManimColor(\"#E31937\")\n",
        "\n",
        "        anim_point_radius(self, r=1.75, color=path_color, anim=Write(txt))\n",
        "\n",
        "        self.wait()\n",
        "\n",
        "        anim_trace_path(self, rt=4)\n",
        "\n",
        "        self.wait()\n",
        "\n",
        "        anim_point_radius(self, r=-2, color=path_color)\n",
        "\n",
        "        self.wait()\n",
        "\n",
        "        anim_trace_path(self, rt=4)\n",
        "\n",
        "        self.wait()\n",
        "\n",
        "        anim_point_radius(self, r=0, anim=Unwrite(txt))\n",
        "\n",
        "        self.wait(0.5)\n"
      ],
      "metadata": {
        "id": "vFXny1J_gKmh"
      },
      "execution_count": null,
      "outputs": []
    },
    {
      "cell_type": "markdown",
      "source": [
        "### Curtate Cycloid Scene\n",
        "Learn more from **MathWorld** — A Wolfram Web Resource.<br>[mathworld.wolfram.com/CurtateCycloid.html](https://mathworld.wolfram.com/CurtateCycloid.html)"
      ],
      "metadata": {
        "id": "pvjQdYWogh9M"
      }
    },
    {
      "cell_type": "code",
      "source": [
        "%%manim -qh CurtateCycloidScene\n",
        "\n",
        "class CurtateCycloidScene(Scene):\n",
        "\n",
        "    def construct(self):\n",
        "\n",
        "        self.add(mobjects)\n",
        "\n",
        "        txt = Text(\"Curtate Cycloid\").to_edge(UP, buff=1)\n",
        "\n",
        "        path_color= ManimColor(\"#19E360\")\n",
        "\n",
        "        anim_point_radius(self, r=0.5, color=path_color, anim=Write(txt))\n",
        "\n",
        "        self.wait()\n",
        "\n",
        "        anim_trace_path(self, rt=4)\n",
        "\n",
        "        self.wait()\n",
        "\n",
        "        anim_point_radius(self, r=-0.375, color=path_color)\n",
        "\n",
        "        self.wait()\n",
        "\n",
        "        anim_trace_path(self, rt=4)\n",
        "\n",
        "        self.wait()\n",
        "\n",
        "        anim_point_radius(self, r=0, anim=Unwrite(txt))\n",
        "\n",
        "        self.wait(0.5)\n"
      ],
      "metadata": {
        "id": "ZCteVI9Jg6-M"
      },
      "execution_count": null,
      "outputs": []
    },
    {
      "cell_type": "markdown",
      "source": [
        "## Cycloid Animation\n",
        "Here is the complete animation. If anything goes wrong, please reinitialize (rerun initialization)."
      ],
      "metadata": {
        "id": "UE8V3USwg-wE"
      }
    },
    {
      "cell_type": "code",
      "source": [
        "%%manim -qh Cycloid\n",
        "\n",
        "class Cycloid(Scene):\n",
        "\n",
        "    def construct(self):\n",
        "\n",
        "        vgroup = VGroup(VGroup(dashed_circle, point), num_line)\n",
        "\n",
        "        vgroup_copy = vgroup.copy()\n",
        "\n",
        "        vgroup.save_state()\n",
        "\n",
        "        vgroup.arrange(DOWN, buff=1)\n",
        "\n",
        "        self.play(\n",
        "            Create(dashed_circle), GrowFromCenter(point), Create(num_line, lag_ratio=0)\n",
        "        )\n",
        "\n",
        "        self.wait(1.5)\n",
        "\n",
        "        self.play(Restore(vgroup))\n",
        "\n",
        "        self.add(mobjects)\n",
        "\n",
        "        text = [\n",
        "            Text(txt).to_edge(UP, buff=1)\n",
        "            for txt in (\"Cycloid\", \"Prolate Cycloid\", \"Curtate Cycloid\")\n",
        "        ]\n",
        "\n",
        "        self.wait(0.5)\n",
        "\n",
        "        anim_point_radius(self, r=1, color=ManimColor(\"#6019E3\"), anim=Write(text[0]))\n",
        "\n",
        "        self.wait(1.5)\n",
        "\n",
        "        cycloid_path = anim_trace_path(self)\n",
        "\n",
        "        self.wait()\n",
        "\n",
        "        anim_point_radius(\n",
        "            self, r=5/3, color=ManimColor(\"#E31937\"), anim=ReplacementTransform(text[0], text[1])\n",
        "        )\n",
        "\n",
        "        self.wait(1.5)\n",
        "\n",
        "        prolate_cycloid_path = anim_trace_path(self)\n",
        "\n",
        "        self.wait()\n",
        "\n",
        "        anim_point_radius(\n",
        "            self, r=1/3, color=ManimColor(\"#19E360\"), anim=ReplacementTransform(text[1], text[2])\n",
        "        )\n",
        "        self.wait(1.5)\n",
        "\n",
        "        curtate_cycloid_path = anim_trace_path(self)\n",
        "\n",
        "        self.wait()\n",
        "\n",
        "        anim_point_radius(self, r=0, anim=Unwrite(text[2]))\n",
        "\n",
        "        self.wait()\n",
        "\n",
        "        self.remove(mobjects)\n",
        "\n",
        "        self.add(vgroup_copy)\n",
        "\n",
        "        dashed_circle_copy, point_copy = vgroup_copy[0]\n",
        "        num_line_copy = vgroup_copy[1]\n",
        "\n",
        "        cycloids = VGroup(cycloid_path, prolate_cycloid_path, curtate_cycloid_path)\n",
        "\n",
        "        anim_one = AnimationGroup(\n",
        "            Uncreate(dashed_circle_copy, run_time=1.5),\n",
        "            ShrinkToCenter(point_copy, run_time=1.5),\n",
        "            Create(cycloids, lag_ratio=0, rate_func=linear, run_time=3),\n",
        "        )\n",
        "        anim_two = AnimationGroup(\n",
        "            Uncreate(cycloids, lag_ratio=0, rate_func=linear, run_time=3),\n",
        "            Uncreate(num_line_copy, lag_ratio=0, run_time=1.5),\n",
        "            lag_ratio=0.5,\n",
        "        )\n",
        "\n",
        "        self.play(anim_one)\n",
        "\n",
        "        self.wait(2)\n",
        "\n",
        "        self.play(anim_two)\n",
        "\n",
        "        self.wait(0.5)\n"
      ],
      "metadata": {
        "id": "UOzadp4EhK7W"
      },
      "execution_count": null,
      "outputs": []
    },
    {
      "cell_type": "markdown",
      "source": [
        "# End Session\n",
        "\n",
        "Run this code cell to disconnect the runtime and terminate the session."
      ],
      "metadata": {
        "id": "vWor6lO3lGXP"
      }
    },
    {
      "cell_type": "code",
      "source": [
        "from google.colab import runtime\n",
        "runtime.unassign()"
      ],
      "metadata": {
        "id": "ADqHRxj6lIY1"
      },
      "execution_count": null,
      "outputs": []
    }
  ]
}