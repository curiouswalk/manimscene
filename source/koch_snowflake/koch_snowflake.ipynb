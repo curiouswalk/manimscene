{
  "nbformat": 4,
  "nbformat_minor": 0,
  "metadata": {
    "colab": {
      "provenance": [],
      "authorship_tag": "ABX9TyOkM8aq6M4hQysw6XmPFFV/",
      "include_colab_link": true
    },
    "kernelspec": {
      "name": "python3",
      "display_name": "Python 3"
    },
    "language_info": {
      "name": "python"
    }
  },
  "cells": [
    {
      "cell_type": "markdown",
      "metadata": {
        "id": "view-in-github",
        "colab_type": "text"
      },
      "source": [
        "<a href=\"https://colab.research.google.com/github/curiouswalk/manimscene/blob/main/source/koch_snowflake/koch_snowflake.ipynb\" target=\"_parent\"><img src=\"https://colab.research.google.com/assets/colab-badge.svg\" alt=\"Open In Colab\"/></a>"
      ]
    },
    {
      "cell_type": "markdown",
      "source": [
        "# [CuriousWalk](https://www.curiouswalk.com)\n",
        "\n",
        "## Manim Scene\n",
        "\n",
        "Animation Scenes Scripted in Python<br>&emsp;[`manimscene.curiouswalk.com`](https://manimscene.curiouswalk.com)\n",
        "\n",
        "Manim in Colab<br>&emsp;[`colab.curiouswalk.com/manim`](https://colab.curiouswalk.com/manim)"
      ],
      "metadata": {
        "id": "oWGBF46PRl7J"
      }
    },
    {
      "cell_type": "markdown",
      "source": [
        "# Manim\n",
        "\n",
        "**Manim** is an animation engine designed to program precise animations for explanatory math videos.\n",
        "\n",
        "> The Manim Community Developers. Manim — Mathematical Animation Framework [Computer software].<br>[www.manim.community](https://www.manim.community/)"
      ],
      "metadata": {
        "id": "0OUHYEwWRpGA"
      }
    },
    {
      "cell_type": "markdown",
      "source": [
        "## Installation\n",
        "\n",
        "[Installation Guide](https://docs.manim.community/en/stable/installation.html)\n"
      ],
      "metadata": {
        "id": "F-ECWNfdxdi2"
      }
    },
    {
      "cell_type": "code",
      "execution_count": null,
      "metadata": {
        "id": "r8cmoqCSOUlK"
      },
      "outputs": [],
      "source": [
        "!sudo apt update\n",
        "\n",
        "!sudo apt install libcairo2-dev libpango1.0-dev ffmpeg\n",
        "\n",
        "# LaTeX installation\n",
        "# !sudo apt install texlive texlive-latex-extra\n",
        "\n",
        "# LaTeX packages\n",
        "# !sudo apt install texlive-science texlive-fonts-extra\n",
        "\n",
        "# [optional] font download (stixfonts.org)\n",
        "url = (\"https://raw.githubusercontent.com/stipub/stixfonts/\"\n",
        "      \"master/fonts/static_ttf/STIXTwoText-Regular.ttf\")\n",
        "!wget -P /usr/share/fonts/truetype $url\n",
        "\n",
        "!pip install manim\n",
        "\n",
        "from IPython.display import clear_output\n",
        "\n",
        "clear_output()\n",
        "\n",
        "print(\"Installation Complete\")\n",
        "\n",
        "exit() # restart session"
      ]
    },
    {
      "cell_type": "markdown",
      "source": [
        "## Setup\n",
        "\n",
        "[Configuration](https://docs.manim.community/en/stable/guides/configuration.html)"
      ],
      "metadata": {
        "id": "20VJfS5ehERU"
      }
    },
    {
      "cell_type": "code",
      "source": [
        "from manim import *\n",
        "\n",
        "config.disable_caching = True\n",
        "config.verbosity = \"WARNING\"\n",
        "config.media_embed = True\n",
        "\n",
        "Text.set_default(font=\"STIX Two Text\")"
      ],
      "metadata": {
        "id": "utoBIJ2whEsk"
      },
      "execution_count": null,
      "outputs": []
    },
    {
      "cell_type": "markdown",
      "source": [
        "## Example Scene\n",
        "\n",
        "```python\n",
        "%%manim -ql NewScene\n",
        "\n",
        "class NewScene(Scene):\n",
        "    def construct(self):\n",
        "        ...  \n",
        "```\n",
        "\n",
        "`%%manim -ql NewScene` is a magic command for the code cell.\n",
        "\n",
        "- `%%manim` runs code cells with manim in a subprocess.\n",
        "- `-ql` specifies low render quality (480p, 15fps).\n",
        "  - `-qm` — medium (720p, 30fps)\n",
        "  - `-qh` — high (1080p, 60fps)\n",
        "  - `-qk` — 4k (2160p, 60fps)\n",
        "- `NewScene` is the scene class to render.\n",
        "\n",
        "[Example Gallery](https://docs.manim.community/en/stable/examples.html)\n",
        "\n",
        "`ExampleScene` creates Manim's logo and then expands it into its banner."
      ],
      "metadata": {
        "id": "O9orLU1Yfct0"
      }
    },
    {
      "cell_type": "code",
      "source": [
        "%%manim -qm ExampleScene\n",
        "\n",
        "class ExampleScene(Scene):\n",
        "    def construct(self):\n",
        "        banner = ManimBanner()\n",
        "        self.play(banner.create())\n",
        "        self.play(banner.expand())\n",
        "        self.wait()"
      ],
      "metadata": {
        "id": "dovXY4B6hKdw"
      },
      "execution_count": null,
      "outputs": []
    },
    {
      "cell_type": "markdown",
      "source": [
        "# Koch Snowflake\n",
        "\n",
        "In mathematics, the intriguing concept of self-similarity emerges, wherein an object bears resemblance, either entirety or partially, to a smaller iteration of itself. A remarkable illustration of this phenomenon is the Koch Snowflake, showcasing the beauty of complexity inherent in self-similar geometric patterns. It is created by repeatedly dividing each side of an equilateral triangle into three segments and replacing the middle segment with a smaller equilateral triangle. This process leads to a shape with an infinite perimeter enclosing a finite area."
      ],
      "metadata": {
        "id": "U3OwrrpsEuXt"
      }
    },
    {
      "cell_type": "code",
      "source": [
        "class KochSnowflake(Polygram):\n",
        "    \"\"\"A Koch Snowflake at the given level of complexity.\n",
        "\n",
        "    Source:\n",
        "      https://matplotlib.org/stable/gallery/lines_bars_and_markers/fill.html\n",
        "\n",
        "    Args:\n",
        "      level (int): The recursion depth (level of complexity). Defaults to 0.\n",
        "      scale (float): The extent of the snowflake (edge length of the base triangle). Defaults to 4.0.\n",
        "      **kwargs: Additional keyword arguments passed to the Polygram constructor.\n",
        "    \"\"\"\n",
        "\n",
        "    def __init__(self, level=0, scale=4, **kwargs) -> None:\n",
        "\n",
        "        def _koch_snowflake_complex(level):\n",
        "            if level == 0:\n",
        "                # initial triangle\n",
        "                angles = np.array([0, 120, 240]) + 90\n",
        "                return scale / np.sqrt(3) * np.exp(np.deg2rad(angles) * 1j)\n",
        "            else:\n",
        "                ZR = 0.5 - 0.5j * np.sqrt(3) / 3\n",
        "\n",
        "                p1 = _koch_snowflake_complex(level - 1)  # start points\n",
        "                p2 = np.roll(p1, shift=-1)  # end points\n",
        "                dp = p2 - p1  # connection vectors\n",
        "\n",
        "                new_points = np.empty(len(p1) * 4, dtype=np.complex128)\n",
        "                new_points[::4] = p1\n",
        "                new_points[1::4] = p1 + dp / 3\n",
        "                new_points[2::4] = p1 + dp * ZR\n",
        "                new_points[3::4] = p1 + dp / 3 * 2\n",
        "                return new_points\n",
        "\n",
        "        points = _koch_snowflake_complex(level)\n",
        "        x, y = points.real, points.imag\n",
        "        z = np.zeros(points.size)\n",
        "        vertices = np.stack((x, y, z), axis=-1)\n",
        "\n",
        "        super().__init__(vertices, **kwargs)\n"
      ],
      "metadata": {
        "id": "PqXo66qyMlD7"
      },
      "execution_count": null,
      "outputs": []
    },
    {
      "cell_type": "markdown",
      "source": [
        "## Default Setting"
      ],
      "metadata": {
        "id": "TwPwlzXa6lUj"
      }
    },
    {
      "cell_type": "code",
      "source": [
        "color = (ManimColor(\"#0ADBEF\"), ManimColor(\"#0A68EF\"), ManimColor(\"#1F0AEF\"))\n",
        "KochSnowflake.set_default(fill_color=color, fill_opacity=1, stroke_width=0, scale=5)"
      ],
      "metadata": {
        "id": "q7Iij16f5F9D"
      },
      "execution_count": null,
      "outputs": []
    },
    {
      "cell_type": "markdown",
      "source": [
        "## Images"
      ],
      "metadata": {
        "id": "qBvksqxM7Lwf"
      }
    },
    {
      "cell_type": "code",
      "source": [
        "%%manim -qh KochSnowflakeSingle\n",
        "\n",
        "class KochSnowflakeSingle(Scene):\n",
        "    def construct(self):\n",
        "\n",
        "        n = 3  # level of complexity\n",
        "\n",
        "        title = Text(\"Koch Snowflake\")\n",
        "\n",
        "        level = Text(\"Level: %d\" % n)\n",
        "\n",
        "        text_group = VGroup(title, level)\n",
        "\n",
        "        text_group.arrange(DOWN, aligned_edge=LEFT).to_corner(UL)\n",
        "\n",
        "        koch_snowflake = KochSnowflake(level=n)\n",
        "\n",
        "        self.add(text_group, koch_snowflake)\n"
      ],
      "metadata": {
        "id": "gv7CIt9Y8HGl"
      },
      "execution_count": null,
      "outputs": []
    },
    {
      "cell_type": "code",
      "source": [
        "%%manim -qh KochSnowflakeMultiple\n",
        "\n",
        "class KochSnowflakeMultiple(Scene):\n",
        "    def construct(self):\n",
        "\n",
        "        title = Text(\"Koch Snowflake\").to_edge(UP, buff=1)\n",
        "\n",
        "        koch_snowflake_group = VGroup()\n",
        "\n",
        "        for i in range(1, 5):\n",
        "            koch_snowflake = KochSnowflake(level=i, scale=2.75)\n",
        "            level = Text(str(i), color=BLACK, font_size=72)\n",
        "            koch_snowflake.add(level)\n",
        "            koch_snowflake_group.add(koch_snowflake)\n",
        "\n",
        "        koch_snowflake_group.arrange(RIGHT, buff=0.5)\n",
        "\n",
        "        self.add(title, koch_snowflake_group)\n"
      ],
      "metadata": {
        "id": "KRgGVT4t_ALc"
      },
      "execution_count": null,
      "outputs": []
    },
    {
      "cell_type": "markdown",
      "source": [
        "## Scene"
      ],
      "metadata": {
        "id": "zp02uUj3DAE_"
      }
    },
    {
      "cell_type": "code",
      "source": [
        "%%manim -qh KochSnowflakeScene\n",
        "\n",
        "class KochSnowflakeScene(Scene):\n",
        "    def construct(self):\n",
        "\n",
        "        title = Text(\"Koch Snowflake\")\n",
        "\n",
        "        level = VGroup(Text(\"Level:\"), Text(\"0\")).arrange(RIGHT, aligned_edge=DOWN)\n",
        "\n",
        "        text_group = VGroup(title, level).arrange(DOWN, aligned_edge=LEFT).to_corner(UL)\n",
        "\n",
        "        koch_snowflake = KochSnowflake(level=0)\n",
        "\n",
        "        def koch_snowflake_anim(n):\n",
        "            next_level = Text(str(n)).next_to(level[0], RIGHT, aligned_edge=DOWN)\n",
        "            next_koch_snowflake = KochSnowflake(level=n)\n",
        "            anim = AnimationGroup(\n",
        "                Transform(\n",
        "                    koch_snowflake, next_koch_snowflake, run_time=2.5, rate_func=linear\n",
        "                ),\n",
        "                Transform(level[1], next_level),\n",
        "            )\n",
        "            return anim\n",
        "\n",
        "        self.play(Write(text_group), GrowFromEdge(koch_snowflake, DR), run_time=1.5)\n",
        "        self.wait()\n",
        "\n",
        "        for i in range(1, 5):\n",
        "            self.play(koch_snowflake_anim(i))\n",
        "            self.wait(1.5)\n",
        "\n",
        "        for i in range(3, -1, -1):\n",
        "            self.play(koch_snowflake_anim(i))\n",
        "            self.wait(1.5)\n",
        "\n",
        "        self.play(\n",
        "            Unwrite(text_group),\n",
        "            GrowFromEdge(koch_snowflake, DR, reverse_rate_function=True),\n",
        "            run_time=1.5,\n",
        "        )\n",
        "        self.wait(0.5)\n"
      ],
      "metadata": {
        "id": "QtB3xqB0DEwN"
      },
      "execution_count": null,
      "outputs": []
    },
    {
      "cell_type": "markdown",
      "source": [
        "# End Session\n",
        "\n",
        "Run this code cell to disconnect the runtime and terminate the session."
      ],
      "metadata": {
        "id": "vWor6lO3lGXP"
      }
    },
    {
      "cell_type": "code",
      "source": [
        "from google.colab import runtime\n",
        "runtime.unassign()"
      ],
      "metadata": {
        "id": "ADqHRxj6lIY1"
      },
      "execution_count": null,
      "outputs": []
    }
  ]
}